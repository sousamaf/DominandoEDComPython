{
 "cells": [
  {
   "cell_type": "markdown",
   "metadata": {},
   "source": [
    "# Processamento de Expressão Aritmética Pós-fixa\n"
   ]
  },
  {
   "cell_type": "markdown",
   "metadata": {},
   "source": [
    "# Implementação da Pilha"
   ]
  },
  {
   "cell_type": "code",
   "execution_count": 2,
   "metadata": {},
   "outputs": [],
   "source": [
    "# Classes No and Pilha desenvolvidas na Aula 06\n",
    "class No:\n",
    "    def __init__(self, valor):\n",
    "        self.valor = valor\n",
    "        self.proximo = None\n",
    "\n",
    "class Pilha:\n",
    "    def __init__(self):\n",
    "        self.topo = None\n",
    "\n",
    "    def push(self, valor):\n",
    "        novo_no = No(valor)\n",
    "        novo_no.proximo = self.topo\n",
    "        self.topo = novo_no\n",
    "\n",
    "    def pop(self):\n",
    "        if self.topo is not None:\n",
    "            removido = self.topo\n",
    "            self.topo = self.topo.proximo\n",
    "            return removido.valor\n",
    "        raise Exception(\"Pilha vazia\")\n",
    "\n",
    "    def peek(self):\n",
    "        if self.topo is not None:\n",
    "            return self.topo.valor\n",
    "        raise Exception(\"Pilha vazia\")\n",
    "\n",
    "    def is_empty(self):\n",
    "        return self.topo is None"
   ]
  },
  {
   "cell_type": "markdown",
   "metadata": {},
   "source": [
    "# Avaliar Expressão Aritmética e Lógica"
   ]
  },
  {
   "cell_type": "code",
   "execution_count": 4,
   "metadata": {},
   "outputs": [
    {
     "name": "stdout",
     "output_type": "stream",
     "text": [
      "Result: 5\n"
     ]
    }
   ],
   "source": [
    "def evaluate_postfix_expression(expression):\n",
    "    stack = Pilha()\n",
    "    for symbol in expression.split():\n",
    "        if symbol.isdigit():  # Se o símbolo é um operando\n",
    "            stack.push(int(symbol))\n",
    "        else:  # O símbolo é um operador\n",
    "            right_operand = stack.pop()\n",
    "            left_operand = stack.pop()\n",
    "            if symbol == '+':\n",
    "                stack.push(left_operand + right_operand)\n",
    "            elif symbol == '-':\n",
    "                stack.push(left_operand - right_operand)\n",
    "            elif symbol == '*':\n",
    "                stack.push(left_operand * right_operand)\n",
    "            elif symbol == '/':\n",
    "                stack.push(left_operand / right_operand)\n",
    "            else:\n",
    "                raise ValueError(f\"Operador inválido: {symbol}\")\n",
    "    \n",
    "    return stack.pop()\n",
    "\n",
    "# Example usage\n",
    "# postfix_expression = \"3 4 + 2 * 7 /\"\n",
    "postfix_expression = \"9 4 -\"\n",
    "result = evaluate_postfix_expression(postfix_expression)\n",
    "print(f\"Result: {result}\")"
   ]
  },
  {
   "cell_type": "code",
   "execution_count": null,
   "metadata": {},
   "outputs": [],
   "source": []
  }
 ],
 "metadata": {
  "kernelspec": {
   "display_name": "base",
   "language": "python",
   "name": "python3"
  },
  "language_info": {
   "codemirror_mode": {
    "name": "ipython",
    "version": 3
   },
   "file_extension": ".py",
   "mimetype": "text/x-python",
   "name": "python",
   "nbconvert_exporter": "python",
   "pygments_lexer": "ipython3",
   "version": "3.12.9"
  }
 },
 "nbformat": 4,
 "nbformat_minor": 2
}
