{
 "cells": [
  {
   "cell_type": "markdown",
   "metadata": {},
   "source": [
    "# Implementação de Pilha\n",
    "\n",
    "Operações básicas da Pilha\n",
    "\n",
    "- push\n",
    "- pop\n",
    "- peek\n",
    "\n",
    "Operações complementares\n",
    "\n",
    "- is_empty"
   ]
  },
  {
   "cell_type": "code",
   "execution_count": 1,
   "metadata": {},
   "outputs": [],
   "source": [
    "# Classes No e Pilha\n",
    "\n",
    "class No:\n",
    "    def __init__(self, valor):\n",
    "        self.valor = valor\n",
    "        self.proximo = None\n",
    "\n",
    "class Pilha:\n",
    "    def __init__(self):\n",
    "        self.topo = None\n",
    "\n",
    "    # Adiciona um elemento no topo da pilha\n",
    "    def push(self, valor):\n",
    "        novo_no = No(valor)\n",
    "        novo_no.proximo = self.topo\n",
    "        self.topo = novo_no\n",
    "\n",
    "    # Remove um elemento do topo da pilha\n",
    "    def pop(self):\n",
    "        if self.topo is not None:\n",
    "            removido = self.topo\n",
    "            self.topo = self.topo.proximo\n",
    "            return removido.valor\n",
    "        raise Exception(\"Pilha vazia.\")\n",
    "\n",
    "    # Acessar o topo da pilha sem realizar a remoção\n",
    "    def peek(self):\n",
    "        if self.topo is not None:\n",
    "            return self.topo.valor\n",
    "        raise Exception(\"Pilha vazia.\")"
   ]
  },
  {
   "cell_type": "code",
   "execution_count": 2,
   "metadata": {},
   "outputs": [],
   "source": [
    "class Pilha(Pilha):\n",
    "    def is_empty(self):\n",
    "        return self.topo is None\n",
    "        \n",
    "        # if self.topo is None:\n",
    "        #     return True\n",
    "        # else:\n",
    "        #     return False"
   ]
  },
  {
   "cell_type": "markdown",
   "metadata": {},
   "source": [
    "# Histórico de Navegação Web"
   ]
  },
  {
   "cell_type": "code",
   "execution_count": 3,
   "metadata": {},
   "outputs": [
    {
     "name": "stdout",
     "output_type": "stream",
     "text": [
      "Visitando: http://example.com\n",
      "Página atual: http://example.com\n",
      "Visitando: http://example.com/about\n",
      "Página atual: http://example.com/about\n",
      "Visitando: http://example.com/contact\n",
      "Página atual: http://example.com/contact\n",
      "Visitando: http://educa.unitins.br\n",
      "Página atual: http://educa.unitins.br\n",
      "Voltando...\n",
      "Página atual: http://example.com/contact\n",
      "Voltando...\n",
      "Página atual: http://example.com/about\n",
      "Voltando...\n",
      "Página atual: http://example.com\n",
      "Voltando...\n",
      "Não há mais histórico para voltar.\n"
     ]
    }
   ],
   "source": [
    "class BrowserHistory:\n",
    "    def __init__(self):\n",
    "        self.history = Pilha()\n",
    "\n",
    "    def visit_page(self, page_url):\n",
    "        self.history.push(page_url)\n",
    "        print(f\"Visitando: {page_url}\")\n",
    "        self.show_current_page()\n",
    "\n",
    "    def go_back(self):\n",
    "        print(\"Voltando...\")\n",
    "        if not self.history.is_empty():\n",
    "            # Pop the current page\n",
    "            self.history.pop()\n",
    "            if not self.history.is_empty():\n",
    "                self.show_current_page()\n",
    "            else:\n",
    "                print(\"Não há mais histórico para voltar.\")\n",
    "        else:\n",
    "            print(\"Não há histórico para voltar.\")\n",
    "\n",
    "    def show_current_page(self):\n",
    "        if not self.history.is_empty():\n",
    "            current_page = self.history.peek()\n",
    "            print(f\"Página atual: {current_page}\")\n",
    "        else:\n",
    "            print(\"Nenhuma página visitada ainda.\")\n",
    "\n",
    "# Example usage\n",
    "browser_history = BrowserHistory()\n",
    "\n",
    "browser_history.visit_page(\"http://example.com\")\n",
    "browser_history.visit_page(\"http://example.com/about\")\n",
    "browser_history.visit_page(\"http://example.com/contact\")\n",
    "browser_history.visit_page(\"http://educa.unitins.br\")\n",
    "\n",
    "browser_history.go_back()  # Go back to About\n",
    "browser_history.go_back()  # Go back to Home Page\n",
    "browser_history.go_back()  # No more history\n",
    "browser_history.go_back()  # Vazio\n"
   ]
  },
  {
   "cell_type": "code",
   "execution_count": null,
   "metadata": {},
   "outputs": [],
   "source": []
  }
 ],
 "metadata": {
  "kernelspec": {
   "display_name": "base",
   "language": "python",
   "name": "python3"
  },
  "language_info": {
   "codemirror_mode": {
    "name": "ipython",
    "version": 3
   },
   "file_extension": ".py",
   "mimetype": "text/x-python",
   "name": "python",
   "nbconvert_exporter": "python",
   "pygments_lexer": "ipython3",
   "version": "3.12.9"
  }
 },
 "nbformat": 4,
 "nbformat_minor": 2
}
