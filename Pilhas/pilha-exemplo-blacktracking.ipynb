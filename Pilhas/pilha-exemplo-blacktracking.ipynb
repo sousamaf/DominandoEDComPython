{
 "cells": [
  {
   "cell_type": "markdown",
   "metadata": {},
   "source": [
    "# Backtracking para resolver um labirinto\n",
    "\n",
    "O labirinto é representado por uma matriz onde 1 é caminho e 0 é parede. O objetivo é encontrar um caminho do ponto (0, 0) ao ponto (n-1, m-1).\n",
    "\n",
    "O algoritmo tenta mover para a direita, para baixo, para a esquerda e para cima, nesta ordem. Se nenhum movimento for possível, retrocede para a célula anterior e tenta outro movimento.\n",
    "\n",
    "O algoritmo termina quando encontra o ponto (n-1, m-1) ou quando não há mais movimentos possíveis."
   ]
  },
  {
   "cell_type": "markdown",
   "metadata": {},
   "source": [
    "# Implementação da Pilha"
   ]
  },
  {
   "cell_type": "code",
   "execution_count": null,
   "metadata": {},
   "outputs": [],
   "source": [
    "import time\n",
    "from IPython.display import clear_output\n",
    "\n",
    "# Classes No and Pilha desenvolvidas na Aula 06\n",
    "\n",
    "class No:\n",
    "    def __init__(self, valor):\n",
    "        self.valor = valor\n",
    "        self.proximo = None\n",
    "\n",
    "class Pilha:\n",
    "    def __init__(self):\n",
    "        self.topo = None\n",
    "\n",
    "    def push(self, valor):\n",
    "        novo_no = No(valor)\n",
    "        novo_no.proximo = self.topo\n",
    "        self.topo = novo_no\n",
    "\n",
    "    def pop(self):\n",
    "        if self.topo is not None:\n",
    "            removido = self.topo\n",
    "            self.topo = self.topo.proximo\n",
    "            return removido.valor\n",
    "        raise Exception(\"Pilha vazia\")\n",
    "\n",
    "    def peek(self):\n",
    "        if self.topo is not None:\n",
    "            return self.topo.valor\n",
    "        raise Exception(\"Pilha vazia\")\n",
    "\n",
    "    def is_empty(self):\n",
    "        return self.topo is None"
   ]
  },
  {
   "cell_type": "markdown",
   "metadata": {},
   "source": [
    "# Labirinto"
   ]
  },
  {
   "cell_type": "code",
   "execution_count": null,
   "metadata": {},
   "outputs": [],
   "source": [
    "def print_maze(maze):\n",
    "    for i in range(len(maze)):\n",
    "        for j in range(len(maze[0])):\n",
    "            if maze[i][j] == 1:\n",
    "                print(\" \", end=\" \")  # Caminho\n",
    "            else:\n",
    "                print(\"█\", end=\" \")  # Parede\n",
    "        print()\n",
    "    print(\"\\n\")\n",
    "\n",
    "\n",
    "maze = [\n",
    "    [1,1,1,1,1,1,1,1,1,1,1,1,1,1,1,1,1,1,1,1,1,1,1,1],\n",
    "    [1,0,0,1,0,0,1,1,0,0,1,0,0,0,0,0,0,0,0,0,0,0,0,1],\n",
    "    [1,0,1,1,0,0,0,0,0,0,1,0,0,0,0,0,0,0,0,0,0,0,0,1],\n",
    "    [1,0,0,1,0,0,0,0,1,1,1,0,0,0,0,1,1,1,0,0,0,0,0,0],\n",
    "    [1,0,0,1,0,0,0,0,1,1,1,1,1,0,0,1,0,1,0,0,0,0,0,1],\n",
    "    [1,0,0,0,0,0,0,0,0,0,0,0,1,1,1,1,0,1,0,1,1,1,0,1],\n",
    "    [1,0,0,0,0,0,0,0,0,0,1,1,1,1,0,0,0,0,0,1,0,1,0,1],\n",
    "    [1,0,0,0,1,1,0,0,0,0,1,0,0,0,0,1,1,1,1,1,0,1,0,1],\n",
    "    [1,0,1,1,1,1,1,0,0,0,1,1,1,1,1,1,0,0,0,0,1,1,1,1],\n",
    "    [0,0,0,0,0,0,0,0,0,0,0,0,0,0,0,0,0,0,1,1,1,1,1,1],\n",
    "    [1,1,1,1,1,1,1,1,1,1,1,1,1,1,1,1,1,1,1,1,1,1,1,1]\n",
    "]\n",
    "\n",
    "print_maze(maze)"
   ]
  },
  {
   "cell_type": "markdown",
   "metadata": {},
   "source": [
    "# Solução com uso de Pilha no contexto Backtraking"
   ]
  },
  {
   "cell_type": "code",
   "execution_count": null,
   "metadata": {},
   "outputs": [],
   "source": [
    "def print_maze(maze, solution):\n",
    "    for i in range(len(maze)):\n",
    "        for j in range(len(maze[0])):\n",
    "            if solution[i][j] == 1:\n",
    "                print(\"•\", end=\" \")\n",
    "            elif solution[i][j] == 2:\n",
    "                print(\"x\", end=\" \")\n",
    "            elif maze[i][j] == 1:\n",
    "                print(\" \", end=\" \")\n",
    "            else:\n",
    "                print(\"█\", end=\" \")\n",
    "        print()\n",
    "    print(\"\\n\")\n",
    "    time.sleep(0.4)  # Ajuste a velocidade da \"animação\" aqui\n",
    "\n",
    "# Função para verificar se uma célula é segura\n",
    "# Uma célula é segura se estiver dentro dos limites do labirinto e for um caminho (1)\n",
    "def is_safe(maze, x, y):\n",
    "    return x >= 0 and x < len(maze) and y >= 0 and y < len(maze[0]) and maze[x][y] == 1\n",
    "\n",
    "# Função para resolver o labirinto\n",
    "def solve_maze(maze):\n",
    "    solution = [[0 for _ in range(len(maze[0]))] for _ in range(len(maze))]\n",
    "    stack = Pilha()\n",
    "    stack.push((0, 0))  # Ponto de partida\n",
    "    \n",
    "    while not stack.is_empty():\n",
    "        x, y = stack.peek()\n",
    "        solution[x][y] = 1  # Marcar a célula atual como parte do caminho da solução\n",
    "        clear_output(wait=True)\n",
    "        print_maze(maze, solution)\n",
    "        \n",
    "        if x == len(maze) - 1 and y == len(maze[0]) - 1:  # Destino alcançado\n",
    "            print(\"Solução encontrada:\")\n",
    "            return True\n",
    "        \n",
    "        moved = False\n",
    "        # A ordem dos movimentos tentados pode ser ajustada aqui se necessário\n",
    "        for dx, dy in [(1, 0), (0, 1), (-1, 0), (0, -1)]:  # Baixo, Direita, Cima, Esquerda\n",
    "            next_x, next_y = x + dx, y + dy\n",
    "            if is_safe(maze, next_x, next_y) and solution[next_x][next_y] == 0:\n",
    "                stack.push((next_x, next_y))\n",
    "                moved = True\n",
    "                break  # Mover para a primeira direção válida que não foi tentada ainda\n",
    "\n",
    "        if not moved:  # Se nenhum movimento for possível, retroceder\n",
    "            solution[x][y] = 2\n",
    "            stack.pop()\n",
    "            clear_output(wait=True)\n",
    "            print_maze(maze, solution)  # Mostrar o passo de retrocesso\n",
    "\n",
    "    print(\"Solução não existe\")\n",
    "    return False\n",
    "\n",
    "# Defina aqui a sua matriz maze com dimensão 25x25 ou outra de sua preferência e chame solve_maze(maze)\n",
    "solve_maze(maze)"
   ]
  },
  {
   "cell_type": "code",
   "execution_count": null,
   "metadata": {},
   "outputs": [],
   "source": []
  }
 ],
 "metadata": {
  "kernelspec": {
   "display_name": "base",
   "language": "python",
   "name": "python3"
  },
  "language_info": {
   "codemirror_mode": {
    "name": "ipython",
    "version": 3
   },
   "file_extension": ".py",
   "mimetype": "text/x-python",
   "name": "python",
   "nbconvert_exporter": "python",
   "pygments_lexer": "ipython3",
   "version": "3.12.9"
  }
 },
 "nbformat": 4,
 "nbformat_minor": 2
}
