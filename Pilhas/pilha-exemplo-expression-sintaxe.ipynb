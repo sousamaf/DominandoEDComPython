{
 "cells": [
  {
   "cell_type": "markdown",
   "metadata": {},
   "source": [
    "# Validação de Expressão\n"
   ]
  },
  {
   "cell_type": "markdown",
   "metadata": {},
   "source": [
    "# Implementação da Pilha"
   ]
  },
  {
   "cell_type": "code",
   "execution_count": 1,
   "metadata": {},
   "outputs": [],
   "source": [
    "# Classes No and Pilha desenvolvidas na Aula 06\n",
    "class No:\n",
    "    def __init__(self, valor):\n",
    "        self.valor = valor\n",
    "        self.proximo = None\n",
    "\n",
    "class Pilha:\n",
    "    def __init__(self):\n",
    "        self.topo = None\n",
    "\n",
    "    def push(self, valor):\n",
    "        novo_no = No(valor)\n",
    "        novo_no.proximo = self.topo\n",
    "        self.topo = novo_no\n",
    "\n",
    "    def pop(self):\n",
    "        if self.topo is not None:\n",
    "            removido = self.topo\n",
    "            self.topo = self.topo.proximo\n",
    "            return removido.valor\n",
    "        raise Exception(\"Pilha vazia\")\n",
    "\n",
    "    def peek(self):\n",
    "        if self.topo is not None:\n",
    "            return self.topo.valor\n",
    "        raise Exception(\"Pilha vazia\")\n",
    "\n",
    "    def is_empty(self):\n",
    "        return self.topo is None"
   ]
  },
  {
   "cell_type": "markdown",
   "metadata": {},
   "source": [
    "# Validação de Expressão: (), [], {}"
   ]
  },
  {
   "cell_type": "code",
   "execution_count": 3,
   "metadata": {},
   "outputs": [
    {
     "name": "stdout",
     "output_type": "stream",
     "text": [
      "Expressão: {[()]} é Válido\n",
      "Expressão: {[(])} é Inválido\n",
      "Expressão: {{[[(())]]}} é Válido\n",
      "Expressão: ([]){} é Válido\n",
      "Expressão: [({})](] é Inválido\n"
     ]
    }
   ],
   "source": [
    "def validate_expression(expression):\n",
    "    # Mapping of closing symbols to their corresponding opening symbols\n",
    "    symbols = {')': '(', '}': '{', ']': '['}\n",
    "    stack = Pilha()\n",
    "\n",
    "    for char in expression:\n",
    "        if char in '([{':\n",
    "            stack.push(char)\n",
    "        elif char in ')]}':\n",
    "            if stack.is_empty() or stack.pop() != symbols[char]:\n",
    "                return False\n",
    "\n",
    "    # If stack is empty, all symbols were properly closed\n",
    "    return stack.is_empty()\n",
    "\n",
    "# Example usage\n",
    "expressions = [\n",
    "    \"{[()]}\",\n",
    "    \"{[(])}\",\n",
    "    \"{{[[(())]]}}\",\n",
    "    \"([]){}\",\n",
    "    \"[({})](]\"\n",
    "]\n",
    "\n",
    "for exp in expressions:\n",
    "    result = \"Válido\" if validate_expression(exp) else \"Inválido\"\n",
    "    print(f\"Expressão: {exp} é {result}\")\n"
   ]
  },
  {
   "cell_type": "code",
   "execution_count": null,
   "metadata": {},
   "outputs": [],
   "source": []
  }
 ],
 "metadata": {
  "kernelspec": {
   "display_name": "base",
   "language": "python",
   "name": "python3"
  },
  "language_info": {
   "codemirror_mode": {
    "name": "ipython",
    "version": 3
   },
   "file_extension": ".py",
   "mimetype": "text/x-python",
   "name": "python",
   "nbconvert_exporter": "python",
   "pygments_lexer": "ipython3",
   "version": "3.12.9"
  }
 },
 "nbformat": 4,
 "nbformat_minor": 2
}
